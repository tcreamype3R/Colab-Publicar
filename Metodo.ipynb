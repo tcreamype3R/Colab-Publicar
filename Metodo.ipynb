{
  "nbformat": 4,
  "nbformat_minor": 0,
  "metadata": {
    "colab": {
      "provenance": [],
      "authorship_tag": "ABX9TyNmXGa5/gDsjSpUw8V33r1I",
      "include_colab_link": true
    },
    "kernelspec": {
      "name": "python3",
      "display_name": "Python 3"
    },
    "language_info": {
      "name": "python"
    }
  },
  "cells": [
    {
      "cell_type": "markdown",
      "metadata": {
        "id": "view-in-github",
        "colab_type": "text"
      },
      "source": [
        "<a href=\"https://colab.research.google.com/github/tcreamype3R/Colab-Publicar/blob/main/Metodo.ipynb\" target=\"_parent\"><img src=\"https://colab.research.google.com/assets/colab-badge.svg\" alt=\"Open In Colab\"/></a>"
      ]
    },
    {
      "cell_type": "code",
      "source": [
        "def extract_linkedin_data_standardized(text, period):\n",
        "    \"\"\"\n",
        "    Función estandarizada para extraer datos de cualquier período\n",
        "    \"\"\"\n",
        "    # Patrón único para todas las extracciones\n",
        "    pattern = r'(\\*{2}Bernabe Aguirre Carrasco\\*{2}.*?)(?=\\*{2}Bernabe Aguirre Carrasco\\*{2}|$)'\n",
        "    publications = re.findall(pattern, text, re.DOTALL)\n",
        "\n",
        "    # Métricas consistentes para todos los períodos\n",
        "    standardized_data = []\n",
        "    for i, pub in enumerate(publications):\n",
        "        publication_data = {\n",
        "            'periodo': period,\n",
        "            'numero': i + 1,\n",
        "            'impresiones': extract_metric(pub, r'\\[(\\d+)\\]'),\n",
        "            'comentarios': extract_metric(pub, r'(\\d+)\\s*comentarios?'),\n",
        "            'compartidos': extract_metric(pub, r'(\\d+)\\s*veces?\\s*compartido'),\n",
        "            'reacciones': extract_metric(pub, r'(\\d+)\\s*reacciones?'),\n",
        "            'hashtags': extract_hashtags(pub),\n",
        "            'texto': extract_text(pub),\n",
        "            'fecha': extract_date(pub),\n",
        "            'tipo_contenido': classify_content_type(pub)\n",
        "        }\n",
        "        standardized_data.append(publication_data)\n",
        "\n",
        "    return standardized_data"
      ],
      "metadata": {
        "id": "yrosvf1cGVgH"
      },
      "execution_count": 2,
      "outputs": []
    },
    {
      "cell_type": "code",
      "source": [
        "STANDARD_METRICS = {\n",
        "    'impresiones': {'tipo': 'absoluto', 'unidad': 'número'},\n",
        "    'comentarios': {'tipo': 'absoluto', 'unidad': 'número'},\n",
        "    'compartidos': {'tipo': 'absoluto', 'unidad': 'número'},\n",
        "    'reacciones': {'tipo': 'absoluto', 'unidad': 'número'},\n",
        "    'engagement_total': {'tipo': 'calculado', 'formula': 'comentarios + compartidos + reacciones'},\n",
        "    'tasa_engagement': {'tipo': 'porcentaje', 'formula': '(engagement_total / impresiones) * 100'},\n",
        "    'alcance_promedio': {'tipo': 'promedio', 'formula': 'mean(impresiones)'}\n",
        "}"
      ],
      "metadata": {
        "id": "1LrQBWieGgQZ"
      },
      "execution_count": 4,
      "outputs": []
    },
    {
      "cell_type": "code",
      "source": [
        "def validate_data_coverage(publications, expected_count, period):\n",
        "    \"\"\"\n",
        "    Valida que tengamos suficiente cobertura de datos\n",
        "    \"\"\"\n",
        "    coverage_ratio = len(publications) / expected_count\n",
        "    if coverage_ratio < 0.8:  # Mínimo 80% de cobertura\n",
        "        raise ValueError(f\"Cobertura insuficiente para {period}: {coverage_ratio:.1%}\")\n",
        "    return coverage_ratio"
      ],
      "metadata": {
        "id": "GzK0-MYGGliG"
      },
      "execution_count": 6,
      "outputs": []
    },
    {
      "cell_type": "code",
      "source": [
        "COMPARATIVE_METRICS = {\n",
        "    'engagement_rate_promedio': 'mean(tasa_engagement)',\n",
        "    'crecimiento_impresiones': '(impresiones_periodo_actual - impresiones_periodo_anterior) / impresiones_periodo_anterior * 100',\n",
        "    'consistencia_publicacion': 'std(impresiones) / mean(impresiones)'\n",
        "}"
      ],
      "metadata": {
        "id": "0JhxHAGlGxa-"
      },
      "execution_count": 8,
      "outputs": []
    },
    {
      "cell_type": "code",
      "source": [
        "def validate_data_coverage(publications, expected_count, period):\n",
        "    \"\"\"\n",
        "    Valida que tengamos suficiente cobertura de datos\n",
        "    \"\"\"\n",
        "    coverage_ratio = len(publications) / expected_count\n",
        "    if coverage_ratio < 0.8:  # Mínimo 80% de cobertura\n",
        "        raise ValueError(f\"Cobertura insuficiente para {period}: {coverage_ratio:.1%}\")\n",
        "    return coverage_ratio"
      ],
      "metadata": {
        "id": "7JYNWF8CG1C2"
      },
      "execution_count": 9,
      "outputs": []
    },
    {
      "cell_type": "code",
      "source": [
        "def process_all_periods(periods_data):\n",
        "    \"\"\"\n",
        "    Procesa todos los períodos con la misma metodología\n",
        "    \"\"\"\n",
        "    results = {}\n",
        "    for period, data in periods_data.items():\n",
        "        # Aplicar las mismas transformaciones a todos los períodos\n",
        "        df = pd.DataFrame(data)\n",
        "        df = calculate_standard_metrics(df)\n",
        "        df = classify_content(df)\n",
        "        df = extract_peak_performance(df)\n",
        "\n",
        "        results[period] = {\n",
        "            'dataframe': df,\n",
        "            'summary': generate_summary_stats(df, period),\n",
        "            'coverage': len(df) / get_expected_count(period)\n",
        "        }\n",
        "\n",
        "    return results"
      ],
      "metadata": {
        "id": "t9NIzvr-G6MF"
      },
      "execution_count": 10,
      "outputs": []
    },
    {
      "cell_type": "code",
      "source": [
        "def comparative_analysis(results):\n",
        "    \"\"\"\n",
        "    Análisis comparativo entre períodos\n",
        "    \"\"\"\n",
        "    comparison_data = []\n",
        "\n",
        "    for period, result in results.items():\n",
        "        df = result['dataframe']\n",
        "        summary = {\n",
        "            'periodo': period,\n",
        "            'total_publicaciones': len(df),\n",
        "            'impresiones_totales': df['impresiones'].sum(),\n",
        "            'engagement_promedio': df['engagement_total'].mean(),\n",
        "            'tasa_engagement_promedio': df['tasa_engagement'].mean(),\n",
        "            'mejor_publicacion': df.loc[df['engagement_total'].idxmax()]['texto'][:100] + \"...\",\n",
        "            'cobertura': result['coverage']\n",
        "        }\n",
        "        comparison_data.append(summary)\n",
        "\n",
        "    return pd.DataFrame(comparison_data)"
      ],
      "metadata": {
        "id": "LTpqDk_qG92v"
      },
      "execution_count": 11,
      "outputs": []
    },
    {
      "cell_type": "code",
      "source": [
        "def calculate_trend_metrics(comparison_df):\n",
        "    \"\"\"\n",
        "    Calcula métricas de tendencia entre períodos\n",
        "    \"\"\"\n",
        "    trends = []\n",
        "    periods = comparison_df['periodo'].tolist()\n",
        "\n",
        "    for i in range(1, len(periods)):\n",
        "        current = comparison_df.iloc[i]\n",
        "        previous = comparison_df.iloc[i-1]\n",
        "\n",
        "        trend = {\n",
        "            'periodo': f\"{previous['periodo']} → {current['periodo']}\",\n",
        "            'crecimiento_impresiones': ((current['impresiones_totales'] - previous['impresiones_totales']) / previous['impresiones_totales']) * 100,\n",
        "            'cambio_engagement': current['tasa_engagement_promedio'] - previous['tasa_engagement_promedio'],\n",
        "            'cambio_consistencia': current['cobertura'] - previous['cobertura']\n",
        "        }\n",
        "        trends.append(trend)\n",
        "\n",
        "    return pd.DataFrame(trends)"
      ],
      "metadata": {
        "id": "xIjI-CviHDIt"
      },
      "execution_count": 12,
      "outputs": []
    },
    {
      "cell_type": "code",
      "source": [
        "def create_comparative_visualization(comparison_df):\n",
        "    \"\"\"\n",
        "    Crea visualizaciones comparativas consistentes\n",
        "    \"\"\"\n",
        "    fig, axes = plt.subplots(2, 2, figsize=(15, 12))\n",
        "\n",
        "    # Impresiones totales por período\n",
        "    axes[0, 0].bar(comparison_df['periodo'], comparison_df['impresiones_totales'])\n",
        "    axes[0, 0].set_title('Impresiones Totales por Período')\n",
        "\n",
        "    # Tasa de engagement comparativa\n",
        "    axes[0, 1].plot(comparison_df['periodo'], comparison_df['tasa_engagement_promedio'], 'o-')\n",
        "    axes[0, 1].set_title('Tasa de Engagement Promedio')\n",
        "\n",
        "    # Distribución de engagement\n",
        "    engagement_data = [results[period]['dataframe']['engagement_total'] for period in comparison_df['periodo']]\n",
        "    axes[1, 0].boxplot(engagement_data, labels=comparison_df['periodo'])\n",
        "    axes[1, 0].set_title('Distribución de Engagement')\n",
        "\n",
        "    # Cobertura de datos\n",
        "    axes[1, 1].bar(comparison_df['periodo'], comparison_df['cobertura'] * 100)\n",
        "    axes[1, 1].set_title('Cobertura de Datos (%)')\n",
        "\n",
        "    plt.tight_layout()\n",
        "    return fig"
      ],
      "metadata": {
        "id": "GJ_qVnftHJxd"
      },
      "execution_count": 13,
      "outputs": []
    },
    {
      "cell_type": "code",
      "source": [
        "def run_complete_analysis():\n",
        "    \"\"\"\n",
        "    Ejecuta el análisis completo y estandarizado\n",
        "    \"\"\"\n",
        "    periods = {\n",
        "        '7_dias': load_data('7_dias.docx'),\n",
        "        '14_dias': load_data('14_dias.docx'),\n",
        "        '28_dias': load_data('28_dias.docx'),\n",
        "        '90_dias': load_data('90_dias.docx')\n",
        "    }\n",
        "\n",
        "    # Validar y procesar todos los períodos\n",
        "    validated_data = {}\n",
        "    for period_name, data in periods.items():\n",
        "        coverage = validate_data_coverage(data, EXPECTED_COUNTS[period_name], period_name)\n",
        "        processed_data = process_period_data(data, period_name)\n",
        "        validated_data[period_name] = {\n",
        "            'data': processed_data,\n",
        "            'coverage': coverage\n",
        "        }\n",
        "\n",
        "    # Análisis comparativo\n",
        "    comparative_results = comparative_analysis(validated_data)\n",
        "    trends = calculate_trend_metrics(comparative_results)\n",
        "\n",
        "    # Generar reporte\n",
        "    generate_report(validated_data, comparative_results, trends)"
      ],
      "metadata": {
        "id": "PJNJ6vJaHMQV"
      },
      "execution_count": 15,
      "outputs": []
    }
  ]
}